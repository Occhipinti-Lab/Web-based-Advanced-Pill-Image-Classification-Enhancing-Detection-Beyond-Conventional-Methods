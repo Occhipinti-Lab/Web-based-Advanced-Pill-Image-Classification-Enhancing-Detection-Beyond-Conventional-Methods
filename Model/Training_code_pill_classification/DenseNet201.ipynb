{
 "cells": [
  {
   "cell_type": "code",
   "execution_count": 1,
   "metadata": {},
   "outputs": [],
   "source": [
    "# importing Fastai vision and all the required matrices\n",
    "from fastai.vision import *\n",
    "from fastai.metrics import error_rate\n",
    "from fastai.vision.data import ImageDataBunch\n",
    "from fastai import *\n",
    "import numpy as np\n",
    "import pandas as pd\n",
    "import scipy.io as sio\n",
    "import warnings\n",
    "import matplotlib\n",
    "import matplotlib.pyplot as plt\n",
    "matplotlib.use('agg')\n",
    "%matplotlib inline\n",
    "warnings.filterwarnings(\"ignore\")\n",
    "import sys"
   ]
  },
  {
   "cell_type": "code",
   "execution_count": 2,
   "metadata": {},
   "outputs": [],
   "source": [
    "# Loading the dataset and Data Augmentation for training and validation data to avoid overfitting\n",
    "\n",
    "data = ImageDataBunch.from_folder('pill_dataset','train','valid',ds_tfms=get_transforms(do_flip=False, flip_vert=True, max_rotate=5.0, max_zoom=1.1, max_lighting=0.2, max_warp=0.2, p_affine=0.75, p_lighting=0.75),size=224,bs=16).normalize(imagenet_stats)"
   ]
  },
  {
   "cell_type": "code",
   "execution_count": 3,
   "metadata": {},
   "outputs": [],
   "source": [
    "# Plot the sample batch\n",
    "data.show_batch()\n",
    "plt.savefig('sample_of_batch_images.png')"
   ]
  },
  {
   "cell_type": "code",
   "execution_count": 5,
   "metadata": {},
   "outputs": [
    {
     "name": "stdout",
     "output_type": "stream",
     "text": [
      "['3B-Medi', 'Agifamcin-300', 'Agifovir-E', 'Alpha-Choay', 'Alprazolam-Mylan-0.5mg', 'Ambron', 'Ameflu-Daytime', 'Amlodipin', 'Apha-Bevagyl', 'Arcalion-200', 'Asanclar', 'Atorvastatin', 'Azitnic', 'BNGreen', 'BP', 'Bepoz-5', 'Bermoric', 'Betaloc-ZOK', 'Bineurox', 'Biolac-A++', 'Biotin', 'Biseptol', 'Blackmores-Celery-3000', 'BrainIQ', 'Bạch-Địa-Căn', 'Cactimin-C500', 'Cenovis', 'Cephalexin', 'Clarityne', 'Colchicin', 'Cosele', 'Deflucold-Day', 'Dexipharm-15', 'Dopharalgic', 'Dorithricin', 'Efferalgan', 'Emb-Fatol', 'Feburic', 'Fexophar', 'Fugacar', 'Gabarica-400', 'Glotadol-F', 'Glotadol-Power', 'Hepromax', 'Homiginmin-Ginseng', 'Itraconazole', 'Lacbiopro-Bidiphar', 'Levofloxacin', 'Livetin', 'Livolin-H', 'Lopera', 'Ludox', 'Lục-Vị-F', 'Macdin', 'Maxrogyl', 'Maxxhair', 'Maxxmucous-AB-30', 'Medrol', 'Mobium', 'Moxilen', 'Myderison', 'Neurontin', 'Nonzoli', 'Nutrios', 'OpeAzitro', 'Opetrypsin-4200', 'Pacemin', 'Pantoprazol', 'Patrotadin', 'Power-Brain', 'Pyrazinamide', 'Regatonic', 'Rinedif', 'Rupafin', 'Scanax', 'Scolanzo', 'Selazn', 'Singulair', 'Stresam', 'Tanamisolblue', 'Tavanic', 'Teburap', 'Thylmedi', 'Tiffy', 'Tinizol', 'Tocimat', 'Transamin', 'Trikadinir-300', 'Trymo', 'Turbe', 'Turbezid', 'Ultracet', 'Vinpocetine', 'Vitamin-3B-Extra', 'Vitamin-PP', 'Vocanz-80', 'Vstrivit', 'Zelfamox-875-125-DT']\n",
      "98\n"
     ]
    }
   ],
   "source": [
    "# class names and number of classes\n",
    "print(data.classes)\n",
    "l = len(data.classes)\n",
    "print(l)"
   ]
  },
  {
   "cell_type": "code",
   "execution_count": 6,
   "metadata": {},
   "outputs": [
    {
     "data": {
      "text/html": [
       "\n",
       "<style>\n",
       "    /* Turns off some styling */\n",
       "    progress {\n",
       "        /* gets rid of default border in Firefox and Opera. */\n",
       "        border: none;\n",
       "        /* Needs to be in here for Safari polyfill so background images work as expected. */\n",
       "        background-size: auto;\n",
       "    }\n",
       "    progress:not([value]), progress:not([value])::-webkit-progress-bar {\n",
       "        background: repeating-linear-gradient(45deg, #7e7e7e, #7e7e7e 10px, #5c5c5c 10px, #5c5c5c 20px);\n",
       "    }\n",
       "    .progress-bar-interrupted, .progress-bar-interrupted::-webkit-progress-bar {\n",
       "        background: #F44336;\n",
       "    }\n",
       "</style>\n"
      ],
      "text/plain": [
       "<IPython.core.display.HTML object>"
      ]
     },
     "metadata": {},
     "output_type": "display_data"
    },
    {
     "data": {
      "text/html": [
       "\n",
       "    <div>\n",
       "      <progress value='0' class='' max='10' style='width:300px; height:20px; vertical-align: middle;'></progress>\n",
       "      0.00% [0/10 00:00&lt;?]\n",
       "    </div>\n",
       "    \n",
       "<table border=\"1\" class=\"dataframe\">\n",
       "  <thead>\n",
       "    <tr style=\"text-align: left;\">\n",
       "      <th>epoch</th>\n",
       "      <th>train_loss</th>\n",
       "      <th>valid_loss</th>\n",
       "      <th>accuracy</th>\n",
       "      <th>time</th>\n",
       "    </tr>\n",
       "  </thead>\n",
       "  <tbody>\n",
       "  </tbody>\n",
       "</table><p>\n",
       "\n",
       "    <div>\n",
       "      <progress value='242' class='' max='410' style='width:300px; height:20px; vertical-align: middle;'></progress>\n",
       "      59.02% [242/410 1:24:09&lt;58:25 2.9862]\n",
       "    </div>\n",
       "    "
      ],
      "text/plain": [
       "<IPython.core.display.HTML object>"
      ]
     },
     "metadata": {},
     "output_type": "display_data"
    }
   ],
   "source": [
    "# For the training, using DenseNet201 and batch size of 16.\n",
    "epochs = 10\n",
    "learn = cnn_learner(data, models.densenet201, metrics=accuracy)\n",
    "learn.fit_one_cycle(epochs)"
   ]
  },
  {
   "cell_type": "code",
   "execution_count": null,
   "metadata": {},
   "outputs": [],
   "source": [
    "# Loss plot for DenseNet201\n",
    "learn.recorder.plot_losses()\n",
    "plt.savefig('DenseNet201 Loss.png')\n"
   ]
  },
  {
   "cell_type": "code",
   "execution_count": null,
   "metadata": {},
   "outputs": [],
   "source": [
    "# Accuracy plot for DenseNet201\n",
    "learn.recorder.plot_metrics()\n",
    "plt.savefig('DenseNet201 Accuracy.png')"
   ]
  },
  {
   "cell_type": "code",
   "execution_count": 16,
   "metadata": {},
   "outputs": [],
   "source": [
    "# Plotting the loss and accuracy for DenseNet201\n",
    "data = learn.recorder.plot_losses()\n",
    "data_acc = learn.recorder.plot_metrics()\n",
    "\n",
    "steps_per_epoch = int(len(data[1])/epochs)\n",
    "# print(steps_per_epoch)\n",
    "training_loss = []\n",
    "for st in range(epochs+1):\n",
    "    if st == 0:\n",
    "        training_loss.append(data[1][st])\n",
    "    else:\n",
    "        training_loss.append(data[1][(st*steps_per_epoch)-1])\n",
    "\n",
    "total_epochs = [i for i in range(epochs+1)]\n",
    "epochs_val = total_epochs.copy()\n",
    "del epochs_val[0]\n",
    "val_loss = data[-1]\n",
    "\n",
    "figure, axis = plt.subplots(2, 2)\n",
    "# For Train Loss\n",
    "axis[0, 0].plot(total_epochs, training_loss, label='Train Loss')\n",
    "axis[0, 0].set_title(\"Train Loss\")\n",
    "# For Test Loss\n",
    "axis[0, 1].plot(epochs_val, val_loss, label='Test Loss')\n",
    "axis[0, 1].set_title(\"Test Loss\")\n",
    "# For Test Loss\n",
    "axis[1, 0].plot(epochs_val, data_acc, label='Test Accuracy')\n",
    "axis[1,0].set_xlabel(\"Test Accuracy\")\n",
    "# For Overall Model Evaluation\n",
    "axis[1, 1].plot(total_epochs, training_loss, label='Train Loss')\n",
    "axis[1, 1].plot(epochs_val, val_loss, label='Test Loss')\n",
    "axis[1, 1].plot(epochs_val, data_acc, label='Test Accuracy')\n",
    "# axis[1, 1].set_title()\n",
    "axis[1,1].set_xlabel(\"All Training Plots\")\n",
    "axis[1, 1].legend()\n",
    "\n",
    "plt.savefig('training_plot DenseNet201.png')"
   ]
  },
  {
   "cell_type": "code",
   "execution_count": 17,
   "metadata": {},
   "outputs": [
    {
     "data": {
      "text/html": [
       "\n",
       "<style>\n",
       "    /* Turns off some styling */\n",
       "    progress {\n",
       "        /* gets rid of default border in Firefox and Opera. */\n",
       "        border: none;\n",
       "        /* Needs to be in here for Safari polyfill so background images work as expected. */\n",
       "        background-size: auto;\n",
       "    }\n",
       "    progress:not([value]), progress:not([value])::-webkit-progress-bar {\n",
       "        background: repeating-linear-gradient(45deg, #7e7e7e, #7e7e7e 10px, #5c5c5c 10px, #5c5c5c 20px);\n",
       "    }\n",
       "    .progress-bar-interrupted, .progress-bar-interrupted::-webkit-progress-bar {\n",
       "        background: #F44336;\n",
       "    }\n",
       "</style>\n"
      ],
      "text/plain": [
       "<IPython.core.display.HTML object>"
      ]
     },
     "metadata": {},
     "output_type": "display_data"
    },
    {
     "data": {
      "text/html": [],
      "text/plain": [
       "<IPython.core.display.HTML object>"
      ]
     },
     "metadata": {},
     "output_type": "display_data"
    },
    {
     "name": "stdout",
     "output_type": "stream",
     "text": [
      "The accuracy is 1.0 %.\n"
     ]
    }
   ],
   "source": [
    "# calculate the accuracy of the model\n",
    "preds,y, loss = learn.get_preds(with_loss=True)\n",
    "acc = accuracy(preds, y)\n",
    "print('The accuracy is {0} %.'.format(acc))"
   ]
  },
  {
   "cell_type": "code",
   "execution_count": 18,
   "metadata": {},
   "outputs": [
    {
     "data": {
      "text/html": [
       "\n",
       "<style>\n",
       "    /* Turns off some styling */\n",
       "    progress {\n",
       "        /* gets rid of default border in Firefox and Opera. */\n",
       "        border: none;\n",
       "        /* Needs to be in here for Safari polyfill so background images work as expected. */\n",
       "        background-size: auto;\n",
       "    }\n",
       "    progress:not([value]), progress:not([value])::-webkit-progress-bar {\n",
       "        background: repeating-linear-gradient(45deg, #7e7e7e, #7e7e7e 10px, #5c5c5c 10px, #5c5c5c 20px);\n",
       "    }\n",
       "    .progress-bar-interrupted, .progress-bar-interrupted::-webkit-progress-bar {\n",
       "        background: #F44336;\n",
       "    }\n",
       "</style>\n"
      ],
      "text/plain": [
       "<IPython.core.display.HTML object>"
      ]
     },
     "metadata": {},
     "output_type": "display_data"
    },
    {
     "data": {
      "text/html": [],
      "text/plain": [
       "<IPython.core.display.HTML object>"
      ]
     },
     "metadata": {},
     "output_type": "display_data"
    }
   ],
   "source": [
    "# Confusion matrix for DenseNet201\n",
    "interp = ClassificationInterpretation.from_learner(learn)\n",
    "fig1=interp.plot_confusion_matrix(figsize=(25,25),return_fig=True)\n",
    "fig1.savefig('DenseNet201_cm.png')\n"
   ]
  },
  {
   "cell_type": "code",
   "execution_count": null,
   "metadata": {},
   "outputs": [],
   "source": [
    "# Plotting most confused classes for DenseNet201\n",
    "interp.plot_top_losses(10, figsize=(15,11))\n",
    "plt.savefig('DenseNet201_most_confused.png')"
   ]
  },
  {
   "cell_type": "code",
   "execution_count": null,
   "metadata": {},
   "outputs": [],
   "source": [
    "# plotting learning rate for DenseNet201\n",
    "learn.lr_find()\n",
    "learn.recorder.plot(sugession=True)\n",
    "plt.savefig('DenseNet201 Learning Rate.png')\n"
   ]
  }
 ],
 "metadata": {
  "kernelspec": {
   "display_name": "pil_classification",
   "language": "python",
   "name": "python3"
  },
  "language_info": {
   "codemirror_mode": {
    "name": "ipython",
    "version": 3
   },
   "file_extension": ".py",
   "mimetype": "text/x-python",
   "name": "python",
   "nbconvert_exporter": "python",
   "pygments_lexer": "ipython3",
   "version": "3.6.13 |Anaconda, Inc.| (default, Mar 16 2021, 11:37:27) [MSC v.1916 64 bit (AMD64)]"
  },
  "orig_nbformat": 4,
  "vscode": {
   "interpreter": {
    "hash": "87a2b86a5650ac1f4dd769ed05e0ea167df947374e311648f084071b4cd8f1aa"
   }
  }
 },
 "nbformat": 4,
 "nbformat_minor": 2
}
